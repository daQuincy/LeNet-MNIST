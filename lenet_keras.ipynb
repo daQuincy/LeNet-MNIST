{
 "cells": [
  {
   "cell_type": "markdown",
   "metadata": {},
   "source": [
    "## __LeNet - MNIST__ \n",
    "\n",
    "The MNIST database (Modified National Institute of Standards and Technology database) is a large database of handwritten digits widely used for training and testing in the field of machine learning.\n",
    "\n",
    "This small project aims to train a LeNet model on the MNIST dataset, then try the model on actual real-life images. (Just for fun)  \n",
    " _inspired by: pyimagesearch_"
   ]
  },
  {
   "cell_type": "markdown",
   "metadata": {},
   "source": [
    "![mnist.png](img/mnist.jpg)\n",
    "_Source: https://github.com/cazala/mnist_\n",
    "\n",
    "![lenet_architecture.png](img/lenet_architecture.png)\n",
    "_Source: https://www.pyimagesearch.com_"
   ]
  },
  {
   "cell_type": "markdown",
   "metadata": {},
   "source": [
    "# Building the model architecture"
   ]
  },
  {
   "cell_type": "code",
   "execution_count": 1,
   "metadata": {},
   "outputs": [
    {
     "name": "stderr",
     "output_type": "stream",
     "text": [
      "c:\\users\\yq\\anaconda3\\envs\\tf\\lib\\site-packages\\h5py\\__init__.py:36: FutureWarning: Conversion of the second argument of issubdtype from `float` to `np.floating` is deprecated. In future, it will be treated as `np.float64 == np.dtype(float).type`.\n",
      "  from ._conv import register_converters as _register_converters\n",
      "Using TensorFlow backend.\n"
     ]
    }
   ],
   "source": [
    "from keras.models import Sequential\n",
    "from keras.layers.convolutional import Conv2D\n",
    "from keras.layers.convolutional import MaxPooling2D\n",
    "from keras.layers.core import Activation\n",
    "from keras.layers.core import Flatten\n",
    "from keras.layers.core import Dense"
   ]
  },
  {
   "cell_type": "code",
   "execution_count": 2,
   "metadata": {},
   "outputs": [],
   "source": [
    "def lenet(width, height, depth, classes):\n",
    "    inputShape = (height, width, depth)\n",
    "    model = Sequential()\n",
    "    \n",
    "    model.add(Conv2D(20, (5, 5), padding=\"same\", input_shape=inputShape))\n",
    "    model.add(Activation(\"relu\"))\n",
    "    model.add(MaxPooling2D(pool_size=(2, 2)))\n",
    "    \n",
    "    model.add(Conv2D(50, (5, 5), padding=\"same\"))\n",
    "    model.add(Activation(\"relu\"))\n",
    "    model.add(MaxPooling2D(pool_size=(2, 2)))\n",
    "    \n",
    "    model.add(Flatten())\n",
    "    model.add(Dense(500))\n",
    "    model.add(Activation(\"relu\"))\n",
    "    \n",
    "    model.add(Dense(classes))\n",
    "    model.add(Activation(\"softmax\"))\n",
    "    \n",
    "    return model"
   ]
  },
  {
   "cell_type": "code",
   "execution_count": 3,
   "metadata": {},
   "outputs": [],
   "source": [
    "from keras.optimizers import Adam\n",
    "from keras.utils import to_categorical\n",
    "from keras.preprocessing.image import ImageDataGenerator\n",
    "\n",
    "from keras.datasets import mnist\n",
    "\n",
    "import numpy as np\n",
    "import matplotlib.pyplot as plt\n",
    "%matplotlib inline"
   ]
  },
  {
   "cell_type": "code",
   "execution_count": 4,
   "metadata": {},
   "outputs": [],
   "source": [
    "# hyperparameters\n",
    "\n",
    "EPOCHS = 3\n",
    "LR = 1e-3\n",
    "BS = 64"
   ]
  },
  {
   "cell_type": "code",
   "execution_count": 5,
   "metadata": {},
   "outputs": [
    {
     "data": {
      "image/png": "[encoded data removed]",
      "text/plain": [
       "<Figure size 1080x288 with 15 Axes>"
      ]
     },
     "metadata": {},
     "output_type": "display_data"
    }
   ],
   "source": [
    "(Xtr, ytr), (Xte, yte) = mnist.load_data()\n",
    "\n",
    "plt.figure(figsize=(15,4))\n",
    "for i in range(15):\n",
    "    plt.subplot(1, 15, i+1)\n",
    "    plt.imshow(Xtr[i], cmap=\"gray\")\n",
    "    plt.title(ytr[i])\n",
    "    plt.axis(\"off\")\n",
    "    \n",
    "plt.show()    "
   ]
  },
  {
   "cell_type": "code",
   "execution_count": 6,
   "metadata": {},
   "outputs": [
    {
     "name": "stdout",
     "output_type": "stream",
     "text": [
      "(60000, 28, 28, 1)\n",
      "(60000, 10)\n"
     ]
    }
   ],
   "source": [
    "Xtr = np.expand_dims(Xtr, -1)\n",
    "Xte = np.expand_dims(Xte, -1)\n",
    "\n",
    "Xtr = (Xtr / 255.0).astype(np.float32)\n",
    "Xte = (Xte / 255.0).astype(np.float32)\n",
    "\n",
    "ytr, yte = to_categorical(ytr, 10), to_categorical(yte, 10)\n",
    "\n",
    "print(Xtr.shape)\n",
    "print(ytr.shape)"
   ]
  },
  {
   "cell_type": "code",
   "execution_count": 7,
   "metadata": {},
   "outputs": [],
   "source": [
    "model = lenet(28, 28, 1, 10)\n",
    "opt = Adam(lr=LR, decay=LR / EPOCHS)\n",
    "\n",
    "aug = ImageDataGenerator(rotation_range=30, width_shift_range=0.1,\n",
    "                         height_shift_range=0.1, shear_range=0.2, zoom_range=0.2, fill_mode=\"nearest\")"
   ]
  },
  {
   "cell_type": "code",
   "execution_count": 8,
   "metadata": {},
   "outputs": [
    {
     "name": "stdout",
     "output_type": "stream",
     "text": [
      "WARNING:tensorflow:Variable *= will be deprecated. Use variable.assign_mul if you want assignment to the variable value or 'x = x * y' if you want a new python Tensor object.\n",
      "Epoch 1/3\n",
      "937/937 [==============================] - 36s 38ms/step - loss: 0.2852 - acc: 0.9099 - val_loss: 0.0531 - val_acc: 0.9821\n",
      "Epoch 2/3\n",
      "937/937 [==============================] - 28s 30ms/step - loss: 0.0957 - acc: 0.9700 - val_loss: 0.0330 - val_acc: 0.9896\n",
      "Epoch 3/3\n",
      "937/937 [==============================] - 29s 31ms/step - loss: 0.0714 - acc: 0.9776 - val_loss: 0.0316 - val_acc: 0.9906\n"
     ]
    }
   ],
   "source": [
    "model.compile(loss=\"categorical_crossentropy\", optimizer=opt, metrics=[\"accuracy\"])\n",
    "H = model.fit_generator(aug.flow(Xtr, ytr, batch_size=BS), validation_data=(Xte, yte), steps_per_epoch=len(Xtr) // BS,\n",
    "                        epochs=EPOCHS, verbose=1)\n",
    "model.save(\"save/digits.h5\")"
   ]
  },
  {
   "cell_type": "markdown",
   "metadata": {},
   "source": [
    "# Test the model!"
   ]
  },
  {
   "cell_type": "code",
   "execution_count": 9,
   "metadata": {},
   "outputs": [],
   "source": [
    "import cv2\n",
    "import numpy as np\n",
    "import imutils\n",
    "from keras.models import load_model\n",
    "from imutils import contours"
   ]
  },
  {
   "cell_type": "code",
   "execution_count": 10,
   "metadata": {},
   "outputs": [],
   "source": [
    "# from Deep Learning for Computer Vision by Adrian Rosebrock (pyimagesearch.com)\n",
    "def preprocess(img):\n",
    "    if img.shape[0] > img.shape[1]:\n",
    "        img = imutils.resize(img, height=20)\n",
    "    else:\n",
    "        img = imutils.resize(img, width=20)\n",
    "        \n",
    "    padW = int((28 - img.shape[1]) / 2.0)\n",
    "    padH = int((28 - img.shape[0]) / 2.0)\n",
    "    \n",
    "    image = cv2.copyMakeBorder(img, padH, padH, padW, padW, cv2.BORDER_CONSTANT, value=0)\n",
    "    image = cv2.resize(image, (28, 28))\n",
    "    \n",
    "    return image"
   ]
  },
  {
   "cell_type": "code",
   "execution_count": 11,
   "metadata": {},
   "outputs": [],
   "source": [
    "model = load_model(\"save/digits.h5\")"
   ]
  },
  {
   "cell_type": "code",
   "execution_count": 13,
   "metadata": {},
   "outputs": [
    {
     "data": {
      "text/plain": [
       "<matplotlib.image.AxesImage at 0x2873c20a668>"
      ]
     },
     "execution_count": 13,
     "metadata": {},
     "output_type": "execute_result"
    },
    {
     "data": {
      "image/png": "[encoded data removed]",
      "text/plain": [
       "<Figure size 720x288 with 3 Axes>"
      ]
     },
     "metadata": {},
     "output_type": "display_data"
    }
   ],
   "source": [
    "img = cv2.imread(\"test.png\")\n",
    "gray = cv2.cvtColor(img, cv2.COLOR_BGR2GRAY)\n",
    "thresh = cv2.threshold(gray, 0, 255, cv2.THRESH_BINARY_INV | cv2.THRESH_OTSU)[1]\n",
    "thresh = cv2.dilate(thresh, cv2.getStructuringElement(cv2.MORPH_RECT,(5,5)))\n",
    "\n",
    "# invert the color of the image since the architecture is train on MNIST: white text black background\n",
    "\n",
    "plt.figure(figsize=(10, 4))\n",
    "\n",
    "plt.subplot(131)\n",
    "plt.axis(\"off\")\n",
    "plt.title(\"Ori\")\n",
    "plt.imshow(cv2.cvtColor(img, cv2.COLOR_BGR2RGB))\n",
    "\n",
    "plt.subplot(132)\n",
    "plt.axis(\"off\")\n",
    "plt.title(\"Gray\")\n",
    "plt.imshow(gray, cmap=\"gray\")\n",
    "\n",
    "plt.subplot(133)\n",
    "plt.axis(\"off\")\n",
    "plt.title(\"Threshold\")\n",
    "plt.imshow(thresh, cmap=\"gray\")"
   ]
  },
  {
   "cell_type": "code",
   "execution_count": 14,
   "metadata": {},
   "outputs": [
    {
     "name": "stdout",
     "output_type": "stream",
     "text": [
      "10\n"
     ]
    }
   ],
   "source": [
    "cnts = cv2.findContours(thresh.copy(), cv2.RETR_EXTERNAL, cv2.CHAIN_APPROX_SIMPLE)[1]\n",
    "cnts = sorted(cnts, key=cv2.contourArea, reverse=True)  # sort the contours from large to small\n",
    "cnts = contours.sort_contours(cnts)[0]  # sort the contours from left to right\n",
    "\n",
    "print(len(cnts))"
   ]
  },
  {
   "cell_type": "code",
   "execution_count": 15,
   "metadata": {},
   "outputs": [
    {
     "data": {
      "image/png": "[encoded data removed]",
      "text/plain": [
       "<Figure size 720x288 with 10 Axes>"
      ]
     },
     "metadata": {},
     "output_type": "display_data"
    }
   ],
   "source": [
    "output = cv2.merge([gray] * 3) # convert gray image into 3 channels\n",
    "plt.figure(figsize=(10, 4))\n",
    "\n",
    "for i, c in enumerate(cnts):\n",
    "    (x, y, w, h) = cv2.boundingRect(c)\n",
    "    \n",
    "    out = thresh[y:y+h, x:x+w]\n",
    "    out = imutils.resize(out, height=20)\n",
    "    out = preprocess(out)\n",
    "    \n",
    "    show = out.copy()\n",
    "    \n",
    "    out = np.expand_dims(out, 0)\n",
    "    out = np.expand_dims(out, -1)\n",
    "    \n",
    "    sm = model.predict(out)\n",
    "    prediction = np.argmax(sm, axis=-1)[0]\n",
    "    \n",
    "    #cv2.rectangle(output, (x, y), (x+w, y+h), (0,255,0), 1)\n",
    "    cv2.putText(output, str(prediction), (x-3, y-3), cv2.FONT_HERSHEY_SIMPLEX, 0.65, (0, 255, 0), 2)\n",
    "    \n",
    "    plt.subplot(1, len(cnts), i+1)\n",
    "    plt.axis(\"off\")\n",
    "    plt.title(str(prediction))\n",
    "    plt.imshow(show, cmap=\"gray\")\n",
    "    \n",
    "plt.show()    "
   ]
  },
  {
   "cell_type": "code",
   "execution_count": 16,
   "metadata": {},
   "outputs": [
    {
     "data": {
      "image/png": "[encoded data removed]",
      "text/plain": [
       "<Figure size 720x288 with 1 Axes>"
      ]
     },
     "metadata": {},
     "output_type": "display_data"
    }
   ],
   "source": [
    "plt.figure(figsize=(10, 4))\n",
    "plt.axis(\"off\")\n",
    "plt.title(\"Output\")\n",
    "plt.imshow(output)\n",
    "plt.show()"
   ]
  },
  {
   "cell_type": "code",
   "execution_count": null,
   "metadata": {},
   "outputs": [],
   "source": []
  }
 ],
 "metadata": {
  "kernelspec": {
   "display_name": "Python 3",
   "language": "python",
   "name": "python3"
  },
  "language_info": {
   "codemirror_mode": {
    "name": "ipython",
    "version": 3
   },
   "file_extension": ".py",
   "mimetype": "text/x-python",
   "name": "python",
   "nbconvert_exporter": "python",
   "pygments_lexer": "ipython3",
   "version": "3.6.5"
  }
 },
 "nbformat": 4,
 "nbformat_minor": 2
}
